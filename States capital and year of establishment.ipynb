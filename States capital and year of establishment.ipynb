{
 "cells": [
  {
   "cell_type": "code",
   "execution_count": null,
   "metadata": {},
   "outputs": [],
   "source": [
    "# india['States']=[\"Capital\",\"Code\",\"Year of establishment\"] \n",
    "india={}\n",
    "india['Andhra Pradesh']=[\"Visakhapatnam\",1956,175];\n",
    "india['Arunachal Pradesh']=[\"Itanagar\",1987,60];\n",
    "india['Assam']=[\"Dispur\",1972,126];\n",
    "india['Bihar']=[\"Patna\",1950,243];\n",
    "india['Chhattisgarh']=['Naya Raipur',2000,90];\n",
    "india['Goa']=['Panaji',1987,40];\n",
    "india['Gujarat']=['Gandhinagar',1960,182];\n",
    "india['Haryana']=['Chandigarh',1966,90];\n",
    "india['Himachal Pradesh']=['Shimla',1971,68];\n",
    "india['Jharkhand']=[\"Ranchi\",2000,81];\n",
    "india['Karnataka']=['Bengaluru',1956,224];\n",
    "india['Kerala']=['Thiruvananthapuram',1956,140];\n",
    "india['Madhya Pradesh']=['Bhopal',1956,230];\n",
    "india['Maharashtra']=['Mumbai',1960,288];\n",
    "india['Manipur']=['Imphal',1972,60];\n",
    "india['Meghalaya']=['Shillong',1972,60];\n",
    "india['Mizoram']=['Aizawl',1987,40];\n",
    "india['Nagaland']=['Kohima',1963,60];\n",
    "india['Odisha']=['Bhubaneshwar',1950,147];\n",
    "india['Punjab']=['Chandigarh',1966,117];\n",
    "india['Rajasthan']=['Jaipur',1950,200];\n",
    "india['Sikkim']=['Gangtok',1975,32];\n",
    "india['Tamil Nadu']=['Chennai',1956,234];\n",
    "india['Telangana']=['Hyderabad',2014,119];\n",
    "india['Tripura']=['Agartala',1972,60];\n",
    "india['Uttar Pradesh']=['Lucknow',1950,403];\n",
    "india['Uttarakhand']=['Dehradun(winter), Gairsain(summer)', 2000,70];\n",
    "india['West Bengal']=['Kolkata',1950,294];\n",
    "\n",
    "\n",
    "india['Andaman & Nicobar Islands']=['Port Blair',1956,'not known'];\n",
    "india['Chandigarh']=['Chandigarh',1966,'not known'];\n",
    "india['Dadra & Nagar Haveli & Daman And Diu']=['Daman',2020,'not known'];\n",
    "india['Delhi']=['New Delhi',1956,70];\n",
    "india['Jammu & Kashmir']=['Srinagar(Summer), Jammu(Winter)',2019,'85 approx.'];\n",
    "india['Ladakh']=['Leh(Summer), Kargil(Winter)',2019,'not known'];\n",
    "india['Lakshadweep']=['Kavaratti',1956,'not known'];\n",
    "india['Puducherry']=['Pondicherry',1954,'33 approx.'];\n",
    "\n",
    "\n",
    "\n",
    "stat=input(\"Enter the name of State or Union Territory (for 'and' use '&') = \")\n",
    "state=stat.title()\n",
    "#print(\"State=\",state)\n",
    "an=input(\"To know the capital of a state press 'C'\\nTo know the year of establishment press 'Y'\\nTo know the seats in Lagislative Assembly press 'A' = \")\n",
    "ans=an.upper()\n",
    "#print(ans)\n",
    "if ans=='C':\n",
    "        print(\"'{}' is the capital of '{}' \".format(india[state][0],state))\n",
    "elif ans=='Y':print(\"'{}' is established in \".format(state),india[state][1])\n",
    "elif ans=='A':print(\"'{}' has '{}' seats in Lagislative Assembly.\".format(state,india[state][2]))   \n",
    "    "
   ]
  }
 ],
 "metadata": {
  "kernelspec": {
   "display_name": "Python 3",
   "language": "python",
   "name": "python3"
  },
  "language_info": {
   "codemirror_mode": {
    "name": "ipython",
    "version": 3
   },
   "file_extension": ".py",
   "mimetype": "text/x-python",
   "name": "python",
   "nbconvert_exporter": "python",
   "pygments_lexer": "ipython3",
   "version": "3.8.5"
  }
 },
 "nbformat": 4,
 "nbformat_minor": 4
}
